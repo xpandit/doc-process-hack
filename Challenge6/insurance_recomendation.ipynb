{
    "cells": [
        {
            "cell_type": "markdown",
            "metadata": {},
            "source": [
                "# Challenge 6: Personalized Insurance Recommendations\n",
                "\n",
                "## Introduction\n",
                "Welcome to Challenge 6! In this challenge, we will guide you through building a personalized insurance recommendation system. Even if many of these concepts are new, don’t worry – each step is explained in detail.\n",
                "\n",
                "In this challenge, you'll learn how to:\n",
                "* **Retrieve Data:** Query and process loan application data from a Cosmos DB. Cosmos DB is a globally distributed NoSQL database that stores data in JSON format.\n",
                "* **Generate Recommendations:** Use basic business logic to generate insurance recommendations based on loan details like the loan amount, type, and the borrower’s age.\n",
                "* **AI Integration:** Integrate our functions with Semantic Kernel—a tool that helps organize tasks and calls intelligent services (powered by Azure OpenAI) to produce automated recommendations.\n",
                "\n",
                "Each step includes detailed inline commentary to help you understand what is happening, so take your time reading through the comments!"
            ]
        },
        {
            "cell_type": "markdown",
            "metadata": {},
            "source": [
                "## Step 1: Environment Setup\n",
                "\n",
                "In this first step, we import the required Python libraries and set up our connections to the Azure services. Here’s what happens:\n",
                "- **semantic_kernel:** A library that helps combine functions into a single intelligent agent.\n",
                "- **Azure OpenAI Chat Service:** Connects us to an AI model that will help generate recommendations.\n",
                "- **Azure Cosmos DB client:** Used to securely connect to our database which contains your loan documents in JSON format.\n",
                "- **dotenv:** Loads environment variables from a `.env` file. Ensure that your `.env` file includes keys such as `COSMOS_ENDPOINT`, `COSMOS_KEY`, `AZURE_OPENAI_DEPLOYMENT_NAME`, `AZURE_OPENAI_KEY`, and `AZURE_OPENAI_ENDPOINT`.\n",
                "\n",
                "With these environment settings, your code will securely authenticate with the relevant services and remain portable."
            ]
        },
        {
            "cell_type": "code",
            "execution_count": 1,
            "metadata": {},
            "outputs": [],
            "source": [
                "from azure.cosmos import CosmosClient, PartitionKey\n",
                "import os\n",
                "import json\n",
                "from dotenv import load_dotenv\n",
                "from typing import Annotated\n",
                "\n",
                "# Load environment variables\n",
                "load_dotenv()\n",
                "\n",
                "# Azure service configuration\n",
                "cosmos_endpoint = os.getenv('COSMOS_ENDPOINT')\n",
                "cosmos_key = os.getenv('COSMOS_KEY')\n",
                "database_name = \"ContosoDB\"\n",
                "openai_deployment = os.getenv(\"AZURE_OPENAI_DEPLOYMENT_NAME\")\n",
                "openai_api_key = os.getenv(\"AZURE_OPENAI_KEY\")\n",
                "openai_endpoint = os.getenv(\"AZURE_OPENAI_ENDPOINT\")\n",
                "\n",
                "# Initialize Cosmos client\n",
                "client = CosmosClient(cosmos_endpoint, cosmos_key)\n",
                "database = client.get_database_client(database_name)"
            ]
        },
        {
            "cell_type": "markdown",
            "metadata": {},
            "source": [
                "## Step 2: Data Retrieval Functions\n",
                "\n",
                "We now define functions to query our Cosmos DB for specific types of data. This step is critical because:\n",
                "- **`get_loan_applicant_info`:** This function retrieves a loan application by matching the applicant's name from the 'LoanForms' container.\n",
                "- **`get_paystub_info`:** This function queries the 'PayStubs' container in Cosmos DB to get paystub information using the employee's name.\n",
                "\n",
                "Both functions use try/except blocks so that any errors (such as connection issues) are caught and printed. Detailed inline comments in the code will explain each part of the query process."
            ]
        },
        {
            "cell_type": "code",
            "execution_count": 2,
            "metadata": {},
            "outputs": [],
            "source": [
                "import semantic_kernel as sk\n",
                "from semantic_kernel.connectors.ai.open_ai import AzureChatCompletion\n",
                "from semantic_kernel.functions.kernel_arguments import KernelArguments\n",
                "from semantic_kernel.functions.kernel_function_decorator import kernel_function\n",
                "from semantic_kernel.kernel import Kernel\n",
                "from semantic_kernel.agents import ChatCompletionAgent\n",
                "from semantic_kernel.connectors.ai.open_ai import OpenAIChatCompletion\n",
                "from semantic_kernel.contents import ChatHistory\n",
                "from semantic_kernel.connectors.ai import FunctionChoiceBehavior"
            ]
        },
        {
            "cell_type": "code",
            "execution_count": 3,
            "metadata": {},
            "outputs": [],
            "source": [
                "@kernel_function(description=\"Retrieves loan application information for a given applicant.\", name=\"get_loan_applicant_info\")\n",
                "def get_loan_applicant_info(applicant_name: Annotated[str, \"The name of the loan applicant to retrieve information for.\"]) -> Annotated[str, \"The JSON string containing loan application data.\"]:\n",
                "    \"\"\"Retrieves loan application information for a given applicant.\n",
                "    \n",
                "    Args:\n",
                "        applicant_name (str): Name of the loan applicant\n",
                "        \n",
                "    Returns:\n",
                "        str: JSON string containing loan application data\n",
                "    \"\"\"\n",
                "    try:\n",
                "        container = database.get_container_client(\"LoanForms\")\n",
                "        query = f\"SELECT * FROM c WHERE c.content[0][\\\"Full Name\\\"] = '{applicant_name}'\"\n",
                "        items = list(container.query_items(query, enable_cross_partition_query=True))\n",
                "        return json.dumps(items[0]) if items else \"{}\"\n",
                "    except Exception as e:\n",
                "        print(f\"Error retrieving loan application: {str(e)}\")\n",
                "        return \"{}\""
            ]
        },
        {
            "cell_type": "code",
            "execution_count": 4,
            "metadata": {},
            "outputs": [],
            "source": [
                "@kernel_function(description=\"Retrieves paystub information for a given employee.\", name=\"get_paystub_info\")\n",
                "def get_paystub_info(employee_name: Annotated[str, \"The name of the employee to retrieve paystub information for.\"]) -> Annotated[str, \"The JSON string containing paystub data.\"]:\n",
                "    \"\"\"Retrieves paystub information for a given employee.\n",
                "    \n",
                "    Args:\n",
                "        employee_name (str): Name of the employee\n",
                "        \n",
                "    Returns:\n",
                "        str: JSON string containing paystub data\n",
                "    \"\"\"\n",
                "    try:\n",
                "        container = database.get_container_client(\"PayStubs\")\n",
                "        query = f\"SELECT * FROM c WHERE c.content['pay stub details']['Employee Name'] = '{employee_name}'\"\n",
                "        items = list(container.query_items(query, enable_cross_partition_query=True))\n",
                "        return json.dumps(items) if items else f\"No paystub information found for {employee_name}.\"\n",
                "    except Exception as e:\n",
                "        print(f\"Error retrieving paystub: {str(e)}\")\n",
                "        return \"\""
            ]
        },
        {
            "cell_type": "code",
            "execution_count": 5,
            "metadata": {},
            "outputs": [],
            "source": [
                "# retrieve loan agreement\n",
                "@kernel_function(description=\"Retrieves loan agreement information for a given applicant.\", name=\"get_loan_agreement_info\")\n",
                "def get_loan_agreement_info(applicant_name: Annotated[str, \"The name of the loan applicant to retrieve agreement information for.\"]) -> Annotated[str, \"The JSON string containing loan agreement data.\"]:\n",
                "    \"\"\"Retrieves loan agreement information for a given applicant.\n",
                "    \n",
                "    Args:\n",
                "        applicant_name (str): Name of the loan applicant\n",
                "    \n",
                "    Returns:\n",
                "        str: JSON string containing loan agreement data\n",
                "    \"\"\"\n",
                "    try:\n",
                "        container = database.get_container_client(\"LoanAgreements\")\n",
                "        query = f\"SELECT * FROM c WHERE c.content.borrower_informaiton like '%{applicant_name}%'\"\n",
                "        items = list(container.query_items(query, enable_cross_partition_query=True))\n",
                "        return json.dumps(items[0]) if items else \"{}\"\n",
                "    except Exception as e:\n",
                "        print(f\"Error retrieving loan agreement: {str(e)}\")\n",
                "        return \"{}\"\n",
                "    "
            ]
        },
        {
            "cell_type": "markdown",
            "metadata": {},
            "source": [
                "## Step 3: Insurance Recommendation Function\n",
                "\n",
                "This cell introduces the `recommend_insurance` function. Here’s what it does:\n",
                "- It accepts the loan amount, type, and the borrower’s age as inputs.\n",
                "- It converts the loan amount (given as a string like \"$20,000\") into a numeric value so that comparisons can be made.\n",
                "- Using conditional logic, it returns a recommended set of insurance products. For example, for larger personal loans or mortgages, different recommendations are made.\n",
                "\n",
                "Remember: This is a simplified example. In production, you might have more complex rules. The inline comments explain every branch of the logic to help you follow along."
            ]
        },
        {
            "cell_type": "code",
            "execution_count": 6,
            "metadata": {},
            "outputs": [],
            "source": [
                "@kernel_function(description=\"Recommends insurance products based on loan details and borrower profile.\", name=\"recommend_insurance\")\n",
                "def recommend_insurance(loan_amount: Annotated[str, \"The amount of the loan as a string with a dollar sign and commas.\"], loan_type: Annotated[str, \"The type of loan (e.g., 'Personal Loan', 'Mortgage', 'Auto Loan', 'Business Loan', 'Student Loan').\"], borrower_age: Annotated[int, \"The age of the borrower.\"]) -> Annotated[str, \"The recommended insurance products as a string.\"]:\n",
                "    \"\"\"Recommends insurance products based on loan details and borrower profile.\n",
                "\n",
                "    Args:\n",
                "        loan_amount (str): Amount of the loan\n",
                "        loan_type (str): Type of loan (Personal Loan, Mortgage, Auto Loan, Business Loan, or Student Loan)\n",
                "        borrower_age (int): Age of the borrower\n",
                "\n",
                "    Returns:\n",
                "        str: Insurance recommendation message\n",
                "    \"\"\"\n",
                "    try:\n",
                "        loan_amount_value = float(\n",
                "            loan_amount.replace('$', '').replace(',', ''))\n",
                "\n",
                "        if loan_type == \"Personal Loan\":\n",
                "            if loan_amount_value > 10000:\n",
                "                if borrower_age > 50:\n",
                "                    return \"Recommended Insurance: Contoso LifeGuard Plus, Contoso Personal Shield Elite\"\n",
                "                return \"Recommended Insurance: Contoso Personal Shield Standard\"\n",
                "            return \"Recommended Insurance: Contoso Personal Shield Basic\"\n",
                "\n",
                "        elif loan_type == \"Mortgage\":\n",
                "            if loan_amount_value > 200000:\n",
                "                return \"Recommended Insurance: Contoso HomeGuard Premium, Contoso MortgageShield Plus\"\n",
                "            return \"Recommended Insurance: Contoso HomeGuard Essential, Contoso MortgageShield Basic (optional)\"\n",
                "\n",
                "        elif loan_type == \"Auto Loan\":\n",
                "            if loan_amount_value > 30000:\n",
                "                return \"Recommended Insurance: Contoso AutoGuard Elite, Contoso ValueGap Plus, Contoso ExtendedCare Premium\"\n",
                "            elif loan_amount_value > 15000:\n",
                "                return \"Recommended Insurance: Contoso AutoGuard Plus, Contoso ValueGap Standard\"\n",
                "            return \"Recommended Insurance: Contoso AutoGuard Basic\"\n",
                "\n",
                "        elif loan_type == \"Business Loan\":\n",
                "            if loan_amount_value > 100000:\n",
                "                return \"Recommended Insurance: Contoso BusinessShield Premium, Contoso KeyTalent Protect, Contoso BusinessContinuity Plus\"\n",
                "            return \"Recommended Insurance: Contoso BusinessShield Essential\"\n",
                "\n",
                "        elif loan_type == \"Student Loan\":\n",
                "            if borrower_age < 25:\n",
                "                return \"Recommended Insurance: Contoso StudentGuard Plus, Contoso HealthEssentials\"\n",
                "            return \"Recommended Insurance: Contoso StudentGuard Basic\"\n",
                "\n",
                "        return \"Recommended Insurance: Schedule a consultation with a Contoso Insurance Advisor for personalized recommendations.\"\n",
                "    except ValueError as e:\n",
                "        print(f\"Error processing loan amount: {str(e)}\")\n",
                "        return \"Error: Unable to process loan amount\"\n",
                "    except Exception as e:\n",
                "        print(f\"Error generating recommendation: {str(e)}\")\n",
                "        return \"Error: Unable to generate recommendation\""
            ]
        },
        {
            "cell_type": "markdown",
            "metadata": {},
            "source": [
                "## Deep Dive: What is Semantic Kernel?\n",
                "\n",
                "Semantic Kernel is a powerful, modular SDK developed by Microsoft that enables you to easily integrate advanced AI models into your applications. It acts as a middleware layer that enables your native code to interact with external AI services. Here are the key components and ideas behind it:\n",
                "\n",
                "- **Kernel:** The heart of the Semantic Kernel. This is where you register all your connectors (which link your application to AI services) and plugins (which are modular units of native code that execute specific tasks). The kernel orchestrates all the interactions required by your AI workflow.\n",
                "\n",
                "- **Agents:** Instead of relying on rigid sequential workflows, AI agents enable dynamic decision-making. Agents can interactively synthesize responses by invoking registered functions on-the-fly, enabling flexible and context-aware responses.\n",
                "\n",
                "- **Connectors:** These are the bridges between your application and remote AI services—for example, the Azure OpenAI Chat service. They handle the communication, data formatting, and authentication required to make API calls.\n",
                "\n",
                "- **Plugins (or Skills):** Modular functions that perform specific tasks. By grouping related native functions into plugins, the AI component can invoke these functions seamlessly during execution.\n",
                "\n",
                "The strength of Semantic Kernel lies in its ability to combine your existing code with state-of-the-art AI models. It’s designed to be flexible and future‑proof: whether you’re working with models from Microsoft, OpenAI, or even Hugging Face, you can swap them out without rewriting your entire codebase."
            ]
        },
        {
            "cell_type": "markdown",
            "metadata": {},
            "source": [
                "## Step 4: Semantic Kernel Integration\n",
                "\n",
                "Semantic Kernel is a framework that helps us orchestrate multiple functions into an intelligent workflow. In this step:\n",
                "- We initialize the Semantic Kernel instance.\n",
                "- We add the Azure OpenAI Chat service to enable intelligent text processing.\n",
                "- Our custom functions (`get_loan_applicant_info`, `get_paystub_info`, and `recommend_insurance`) are registered as a plugin so that the Semantic Kernel can use them to plan and execute tasks.\n",
                "\n",
                "If you’re new to concepts like async programming (you’ll see `await` later) or AI orchestration, read through the inline comments—the code walks you through how these components are connected."
            ]
        },
        {
            "cell_type": "code",
            "execution_count": 7,
            "metadata": {},
            "outputs": [],
            "source": [
                "# Initialize Semantic Kernel\n",
                "kernel = sk.Kernel()\n",
                "\n",
                "# Add Azure OpenAI service\n",
                "deployment = AzureChatCompletion(\n",
                "    service_id=\"default\",\n",
                "    deployment_name=\"gpt-4o\",\n",
                "    endpoint=openai_endpoint,\n",
                "    api_key=openai_api_key\n",
                ")\n",
                "kernel.add_service(deployment)\n",
                "\n",
                "# Register functions as plugin\n",
                "plugin = kernel.add_functions(\n",
                "    plugin_name=\"LoanAndInsurancePlugin\",\n",
                "    functions=[\n",
                "        get_loan_applicant_info,\n",
                "        get_paystub_info,\n",
                "        get_loan_agreement_info,\n",
                "        recommend_insurance\n",
                "    ]\n",
                ")"
            ]
        },
        {
            "cell_type": "markdown",
            "metadata": {},
            "source": [
                "## Step 5: Create and Execute Recommendation Agent\n",
                "\n",
                "Now we define an intelligent agent powered by Semantic Kernel leveraging the Azure OpenAI Chat service to handle the recommendation process. The agent is configured with detailed instructions and a conversation history that includes the instruction query:\n",
                "\"Please retrieve loan application and paystub information for 'Jane Elizabeth Smith' and recommend relevant insurance products.\"\n",
                "\n",
                "Instead of using a sequential planner to decompose the task into ordered steps, the agent dynamically synthesizes responses by invoking the appropriate registered functions based on the provided context. When invoked asynchronously, the agent processes the conversation and returns a personalized insurance recommendation crafted with a friendly and professional tone."
            ]
        },
        {
            "cell_type": "code",
            "execution_count": 9,
            "metadata": {},
            "outputs": [
                {
                    "name": "stdout",
                    "output_type": "stream",
                    "text": [
                        "Invoking insurance advisor agent...\n",
                        "# Agent - insurance_advisor: 'From the retrieved loan application and paystub information of Jane Elizabeth Smith, I found that she is applying for an Auto Loan of $40,000. Given her age of 34 and the loan purpose (vehicle purchase), I've identified relevant insurance products.\n",
                        "\n",
                        "Here is the crafted recommendation message:\n",
                        "\n",
                        "<message>\n",
                        "Hi Jane,\n",
                        "\n",
                        "Thanks for reaching out to us regarding your Auto Loan application! Based on your loan details and financial profile, we have some excellent insurance recommendations to help protect you and your new vehicle:\n",
                        "\n",
                        "1. **Contoso AutoGuard Elite**: Comprehensive coverage designed to protect your investment in case of damage, theft, or accidents.\n",
                        "2. **Contoso ValueGap Plus**: Gap insurance that covers the difference between your car's value and the remaining loan balance in case of total loss.\n",
                        "3. **Contoso ExtendedCare Premium**: Extended warranty coverage for unexpected repairs and maintenance, keeping you worry-free on the road.\n",
                        "\n",
                        "These insurance options are tailored to safeguard your auto loan and offer peace of mind throughout your ownership journey. Let us know if you'd like more details about any of these policies or assistance with enrollment!\n",
                        "\n",
                        "Best regards,  \n",
                        "The Contoso Insurance Team  \n",
                        "</message>\n",
                        "\n",
                        "If you would like me to elaborate on any specific insurance benefits or need further advice, feel free to ask!'\n"
                    ]
                }
            ],
            "source": [
                "from datetime import datetime\n",
                "\n",
                "# Get current date\n",
                "current_date = datetime.now().strftime(\"%Y-%m-%d\")\n",
                "\n",
                "# Define agent with name and instructions\n",
                "AGENT_NAME = \"insurance_advisor\" # Changed to use underscores instead of spaces to match pattern\n",
                "AGENT_INSTRUCTIONS = f\"\"\"You are an insurance advisor that helps recommend insurance products based on loan applications.\n",
                "Current date: {current_date}\n",
                "\n",
                "RULES:\n",
                "1. You should always recommend insurance products with information retrieved from 'recommend_insurance' function.\n",
                "2. You will craft the message to be sent to the user, and your response should contain the crafted message inside <message> tags.\n",
                "3. Outside of the <message> tags, you should include other information that is not the crafted message, such as the reasoning behind the recommendation.\n",
                "4. The message tone should be friendly and professional, and the language should be engaging and easy to understand and aligned with Contoso Insurance brand voice.\n",
                "\"\"\"\n",
                "\n",
                "settings = kernel.get_prompt_execution_settings_from_service_id(service_id=\"default\")\n",
                "# Configure the function choice behavior to auto invoke kernel functions\n",
                "settings.function_choice_behavior = FunctionChoiceBehavior.Auto()\n",
                "\n",
                "agent = ChatCompletionAgent(service_id=\"default\", kernel=kernel, name=AGENT_NAME, arguments=KernelArguments(settings=settings))\n",
                "\n",
                "# Define the chat history\n",
                "chat_history = ChatHistory()\n",
                "chat_history.add_system_message(AGENT_INSTRUCTIONS)\n",
                "\n",
                "# Add user request\n",
                "user_input = \"Please retrieve loan application and paystub information for 'Jane Elizabeth Smith' and recommend relevant insurance products.\"\n",
                "chat_history.add_user_message(user_input)\n",
                "\n",
                "print(\"Invoking insurance advisor agent...\")\n",
                "async for content in agent.invoke(chat_history):\n",
                "    chat_history.add_message(content)\n",
                "    print(f\"# Agent - {content.name or '*'}: '{content.content}'\")"
            ]
        },
        {
            "cell_type": "code",
            "execution_count": 10,
            "metadata": {},
            "outputs": [
                {
                    "data": {
                        "text/markdown": [
                            "\n",
                            "Hi Jane,\n",
                            "\n",
                            "Thanks for reaching out to us regarding your Auto Loan application! Based on your loan details and financial profile, we have some excellent insurance recommendations to help protect you and your new vehicle:\n",
                            "\n",
                            "1. **Contoso AutoGuard Elite**: Comprehensive coverage designed to protect your investment in case of damage, theft, or accidents.\n",
                            "2. **Contoso ValueGap Plus**: Gap insurance that covers the difference between your car's value and the remaining loan balance in case of total loss.\n",
                            "3. **Contoso ExtendedCare Premium**: Extended warranty coverage for unexpected repairs and maintenance, keeping you worry-free on the road.\n",
                            "\n",
                            "These insurance options are tailored to safeguard your auto loan and offer peace of mind throughout your ownership journey. Let us know if you'd like more details about any of these policies or assistance with enrollment!\n",
                            "\n",
                            "Best regards,  \n",
                            "The Contoso Insurance Team  \n"
                        ],
                        "text/plain": [
                            "<IPython.core.display.Markdown object>"
                        ]
                    },
                    "metadata": {},
                    "output_type": "display_data"
                }
            ],
            "source": [
                "# parse the response to get the message that is inside <message> tags\n",
                "import re\n",
                "from IPython.display import display, Markdown\n",
                "\n",
                "\n",
                "# Extract the message from the response\n",
                "message_pattern = r'<message>(.*?)</message>'\n",
                "message_match = re.search(message_pattern, chat_history.messages[-1].content, re.DOTALL)\n",
                "\n",
                "display(Markdown(message_match.group(1)))"
            ]
        },
        {
            "cell_type": "markdown",
            "metadata": {},
            "source": [
                "## Step 6: Experiment with the Agent's prompt\n",
                "\n",
                "Now that you have seen the AI Agent in action, try to modify the agent's instructions and get it to create different messages, for example, try to make the agent output the mail address for the borrower inside `<email>` tags."
            ]
        },
        {
            "cell_type": "markdown",
            "metadata": {},
            "source": [
                "## Conclusion\n",
                "\n",
                "In this challenge, you learned how to:\n",
                "* **Retrieve and Process Data:** Extract loan application and paystub information from Cosmos DB.\n",
                "* **Generate Recommendations:** Use simple business logic to make personalized insurance recommendations based on key factors like loan amount, loan type, and borrower age.\n",
                "* **Integrate AI:** Combine your custom functions with Semantic Kernel to orchestrate this workflow and enable intelligent task planning.\n",
                "\n",
                "This challenge might introduce several new technologies and programming concepts, such as working with asynchronous code, integrating external services, and orchestrating complex workflows. Each step is carefully annotated with explanations and inline comments, so refer to these comments if you get stuck or want to understand the logic behind each operation.\n",
                "\n",
                "By the end of this challenge, you should have a strong understanding of how structured data and AI services can be combined to build intelligent applications that automate decision-making processes."
            ]
        }
    ],
    "metadata": {
        "kernelspec": {
            "display_name": "Python 3",
            "language": "python",
            "name": "python3"
        },
        "language_info": {
            "codemirror_mode": {
                "name": "ipython",
                "version": 3
            },
            "file_extension": ".py",
            "mimetype": "text/x-python",
            "name": "python",
            "nbconvert_exporter": "python",
            "pygments_lexer": "ipython3",
            "version": "3.11.11"
        }
    },
    "nbformat": 4,
    "nbformat_minor": 2
}
